{
 "cells": [
  {
   "cell_type": "code",
   "execution_count": 145,
   "metadata": {},
   "outputs": [],
   "source": [
    "import numpy\n",
    "import scipy.special\n",
    "import csv"
   ]
  },
  {
   "cell_type": "code",
   "execution_count": 146,
   "metadata": {},
   "outputs": [],
   "source": [
    "from neuralNetwork import neuralNetwork\n"
   ]
  },
  {
   "cell_type": "code",
   "execution_count": 147,
   "metadata": {},
   "outputs": [],
   "source": [
    "input_nodes = 2\n",
    "hidden_nodes = 16\n",
    "output_nodes = 3\n",
    "learning_rate = 0.3"
   ]
  },
  {
   "cell_type": "code",
   "execution_count": 148,
   "metadata": {},
   "outputs": [],
   "source": [
    "n = neuralNetwork(input_nodes, hidden_nodes, output_nodes, learning_rate)"
   ]
  },
  {
   "cell_type": "code",
   "execution_count": 149,
   "metadata": {},
   "outputs": [],
   "source": [
    "with open(\"learn_data.csv\",encoding='utf-8-sig',newline='') as f:\n",
    "    reader = csv.reader(f)\n",
    "    training_data_list = [row for row in reader]\n",
    "    f.close()"
   ]
  },
  {
   "cell_type": "code",
   "execution_count": 150,
   "metadata": {},
   "outputs": [],
   "source": [
    "data = numpy.array(training_data_list, dtype=\"float\")"
   ]
  },
  {
   "cell_type": "code",
   "execution_count": 151,
   "metadata": {},
   "outputs": [],
   "source": [
    "inputs, outputs = numpy.hsplit(data,[2])\n",
    "outputs = outputs.astype(numpy.int32)"
   ]
  },
  {
   "cell_type": "code",
   "execution_count": 152,
   "metadata": {},
   "outputs": [],
   "source": [
    "sub_array = numpy.array([20,55],dtype=\"float\")\n",
    "div_array = numpy.array([17,45],dtype=\"float\")\n",
    "mult_array = numpy.array([0.99,0.98],dtype=\"float\")\n",
    "add_array = numpy.array([0.01,0.01],dtype=\"float\")\n",
    "inputs = (inputs-sub_array)/div_array*mult_array+add_array"
   ]
  },
  {
   "cell_type": "code",
   "execution_count": 153,
   "metadata": {},
   "outputs": [],
   "source": [
    "import scipy\n",
    "import scipy.special"
   ]
  },
  {
   "cell_type": "code",
   "execution_count": 154,
   "metadata": {},
   "outputs": [],
   "source": [
    "for i in range(len(inputs)):\n",
    "    targets = numpy.zeros(output_nodes)\n",
    "    targets[int(outputs[i][0])] = 0.99\n",
    "    n.train(inputs[i], targets)\n"
   ]
  },
  {
   "cell_type": "code",
   "execution_count": 155,
   "metadata": {},
   "outputs": [],
   "source": [
    "test_data = numpy.array([30,75], dtype=\"float\")\n",
    "sub_array = numpy.array([20,55],dtype=\"float\")\n",
    "div_array = numpy.array([17,45],dtype=\"float\")\n",
    "mult_array = numpy.array([0.99,0.98],dtype=\"float\")\n",
    "add_array = numpy.array([0.01,0.01],dtype=\"float\")\n",
    "test_data = (test_data-sub_array)/div_array*mult_array+add_array"
   ]
  },
  {
   "cell_type": "code",
   "execution_count": 156,
   "metadata": {},
   "outputs": [
    {
     "data": {
      "text/plain": [
       "array([[0.29558785],\n",
       "       [0.31132151],\n",
       "       [0.24149669]])"
      ]
     },
     "execution_count": 156,
     "metadata": {},
     "output_type": "execute_result"
    }
   ],
   "source": [
    "n.query(test_data)"
   ]
  }
 ],
 "metadata": {
  "kernelspec": {
   "display_name": "Python 3.10.0 64-bit",
   "language": "python",
   "name": "python3"
  },
  "language_info": {
   "codemirror_mode": {
    "name": "ipython",
    "version": 3
   },
   "file_extension": ".py",
   "mimetype": "text/x-python",
   "name": "python",
   "nbconvert_exporter": "python",
   "pygments_lexer": "ipython3",
   "version": "3.10.0"
  },
  "orig_nbformat": 4,
  "vscode": {
   "interpreter": {
    "hash": "369f2c481f4da34e4445cda3fffd2e751bd1c4d706f27375911949ba6bb62e1c"
   }
  }
 },
 "nbformat": 4,
 "nbformat_minor": 2
}
